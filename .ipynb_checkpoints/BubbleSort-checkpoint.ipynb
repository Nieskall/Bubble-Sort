{
 "cells": [
  {
   "cell_type": "code",
   "execution_count": 7,
   "id": "d24b1280-4ccb-4a8f-9b5c-6a2e3e575d73",
   "metadata": {
    "scrolled": true
   },
   "outputs": [
    {
     "name": "stdout",
     "output_type": "stream",
     "text": [
      "Array original: [1, 5, 3, 10, 2, 11, 26]\n",
      "Array ordenado: [1, 2, 3, 5, 10, 11, 26]\n"
     ]
    }
   ],
   "source": [
    "def bubble_sort(arr):\n",
    "    n = len(arr)\n",
    "    \n",
    "   \n",
    "    for a in range(n):\n",
    "        \n",
    "        for b in range(0, n-a-1):\n",
    "           \n",
    "            if arr[b] > arr[b+1]:\n",
    "                arr[b], arr[b+1] = arr[b+1], arr[b]\n",
    "                \n",
    "    return arr\n",
    "arr = [1, 5, 3, 10, 2, 11, 26]\n",
    "print(\"Array original:\", arr)\n",
    "\n",
    "sorted_arr = bubble_sort(arr)\n",
    "print(\"Array ordenado:\", sorted_arr)\n"
   ]
  },
  {
   "cell_type": "code",
   "execution_count": null,
   "id": "43291af0-4267-47a6-858f-57570e9d7b7b",
   "metadata": {},
   "outputs": [],
   "source": []
  },
  {
   "cell_type": "code",
   "execution_count": null,
   "id": "b8e4eef9-a966-4c0a-9b3f-64671507b5cb",
   "metadata": {},
   "outputs": [],
   "source": []
  }
 ],
 "metadata": {
  "kernelspec": {
   "display_name": "Python 3 (ipykernel)",
   "language": "python",
   "name": "python3"
  },
  "language_info": {
   "codemirror_mode": {
    "name": "ipython",
    "version": 3
   },
   "file_extension": ".py",
   "mimetype": "text/x-python",
   "name": "python",
   "nbconvert_exporter": "python",
   "pygments_lexer": "ipython3",
   "version": "3.9.13"
  }
 },
 "nbformat": 4,
 "nbformat_minor": 5
}
